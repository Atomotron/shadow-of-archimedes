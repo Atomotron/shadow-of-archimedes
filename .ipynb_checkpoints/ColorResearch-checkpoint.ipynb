{
 "cells": [
  {
   "cell_type": "code",
   "execution_count": 14,
   "metadata": {},
   "outputs": [],
   "source": [
    "import numpy as np\n",
    "import matplotlib.pyplot as plt\n",
    "\n",
    "def h(value):\n",
    "    value = value.lstrip('#')\n",
    "    lv = len(value)\n",
    "    return tuple(int(value[i:i + lv // 3], 16) for i in range(0, lv, lv // 3))\n",
    "\n",
    "night = np.array(list(map(h,[\"02070d\",\"0a0a0b\",\"232933\",\"414b5e\",\"7587a8\"])))\n",
    "twilight = np.array(list(map(h,[\"10083e\",\"10083e\",\"331f51\",\"3b294d\",\"493b46\"])))\n",
    "nice = np.array(list(map(h,[\"f1b3fc\",\"eaa9c5\",\"c58a98\",\"a67072\",\"6f432f\"])))\n",
    "day = np.array(list(map(h,[\"fa841b\",\"f66914\",\"ec5317\",\"e43f1a\",\"d61e1f\"])))"
   ]
  },
  {
   "cell_type": "code",
   "execution_count": 16,
   "metadata": {},
   "outputs": [
    {
     "data": {
      "image/png": "[encoded data removed]",
      "text/plain": [
       "<Figure size 432x288 with 1 Axes>"
      ]
     },
     "metadata": {
      "needs_background": "light"
     },
     "output_type": "display_data"
    }
   ],
   "source": [
    "plt.imshow(np.array([night,twilight,nice,day]))\n",
    "plt.show()"
   ]
  },
  {
   "cell_type": "code",
   "execution_count": 32,
   "metadata": {},
   "outputs": [
    {
     "name": "stderr",
     "output_type": "stream",
     "text": [
      "Clipping input data to the valid range for imshow with RGB data ([0..1] for floats or [0..255] for integers).\n"
     ]
    },
    {
     "name": "stdout",
     "output_type": "stream",
     "text": [
      "[]\n",
      "[[ -0.48251774   2.08993557   4.10404861   6.00213514   9.09279104]\n",
      " [ -0.86920582  -4.34282797  -6.9084863   -9.33471512 -13.27677648]\n",
      " [  0.31519505  -0.86906037  -1.78353003  -2.64474495  -4.04706643]\n",
      " [  1.30385945   1.99698603   2.43517366   2.85612583   3.53443806]\n",
      " [  2.62294456   5.38966201   7.30294295   9.12348321  12.07169752]] [[241 179 252]\n",
      " [234 169 197]\n",
      " [197 138 152]\n",
      " [166 112 114]\n",
      " [111  67  47]]\n"
     ]
    },
    {
     "data": {
      "text/plain": [
       "<matplotlib.image.AxesImage at 0x7fe066e6ea60>"
      ]
     },
     "execution_count": 32,
     "metadata": {},
     "output_type": "execute_result"
    },
    {
     "data": {
      "image/png": "[encoded data removed]",
      "text/plain": [
       "<Figure size 432x288 with 1 Axes>"
      ]
     },
     "metadata": {
      "needs_background": "light"
     },
     "output_type": "display_data"
    }
   ],
   "source": [
    "def fit_matrix(A,B): # Tries to find X to solve AX = B\n",
    "    X,residuals,rank,s = np.linalg.lstsq(A,B,rcond=None)\n",
    "    print(residuals)\n",
    "    return X\n",
    "X = fit_matrix(nice.T,day.T)\n",
    "print(X,nice)\n",
    "plt.imshow(np.array( ((X @ nice),) ) )"
   ]
  },
  {
   "cell_type": "code",
   "execution_count": null,
   "metadata": {},
   "outputs": [],
   "source": []
  }
 ],
 "metadata": {
  "kernelspec": {
   "display_name": "Python 3",
   "language": "python",
   "name": "python3"
  },
  "language_info": {
   "codemirror_mode": {
    "name": "ipython",
    "version": 3
   },
   "file_extension": ".py",
   "mimetype": "text/x-python",
   "name": "python",
   "nbconvert_exporter": "python",
   "pygments_lexer": "ipython3",
   "version": "3.8.5"
  }
 },
 "nbformat": 4,
 "nbformat_minor": 4
}
